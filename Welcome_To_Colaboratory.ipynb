{
  "cells": [    
   
    {
      "cell_type": "code",
      "source": [
        "from scipy.optimize import minimize\n",
        "from scipy.sparse import csr_matrix\n",
        "from scipy.sparse.csgraph import connected_components\n",
        "from scipy.sparse.csgraph import dijkstra\n",
        "import numpy as np\n",
        "\n",
        "# def eqn(x):\n",
        "#    return x**2 + x + 2\n",
        "# myMini = minimize(eqn, 0, method='BFGS')\n",
        "# print(myMini)\n",
        "# arr = np.array([0, 0, 0, 0, 0, 1, 1, 0, 2])\n",
        "\n",
        "# print(csr_matrix(arr))\n",
        "# print(csr_matrix(arr).data)\n",
        "# arr = np.array([[0, 0, 0], [0, 0, 1], [1, 0, 2]])\n",
        "\n",
        "# print(csr_matrix(arr).data)\n",
        "# arr = np.array([[0, 0, 0], [0, 0, 1], [1, 0, 2]])\n",
        "\n",
        "# print(csr_matrix(arr).count_nonzero())\n",
        "# arr = np.array([[0, 0, 0], [0, 0, 1], [1, 0, 2]])\n",
        "\n",
        "# mat = csr_matrix(arr)\n",
        "# mat.eliminate_zeros()\n",
        "# print(mat)\n",
        "# arr = np.array([[0, 0, 0], [0, 0, 1], [1, 0, 2]])\n",
        "\n",
        "# mat = csr_matrix(arr)\n",
        "# mat.sum_duplicates()\n",
        "# print(mat.data)\n",
        "\n",
        "# arr = np.array([[0, 0, 0], [0, 0, 1], [1, 0, 2]])\n",
        "\n",
        "# newarr = csr_matrix(arr).tocsc()\n",
        "\n",
        "# print(newarr)\n",
        "\n",
        "# arr = np.array([\n",
        "#   [0, 1, 2],\n",
        "#   [1, 0, 0],\n",
        "#   [2, 0, 0]\n",
        "# ])\n",
        "\n",
        "# newarr = csr_matrix(arr)\n",
        "\n",
        "# print(connected_components(newarr))\n",
        "\n",
        "arr = np.array([\n",
        "  [0, 1, 2],\n",
        "  [1, 0, 0],\n",
        "  [2, 0, 0]\n",
        "])\n",
        "\n",
        "newarr = csr_matrix(arr)\n",
        "\n",
        "print(dijkstra(newarr, return_predecessors=True, indices=0))"
      ],
      "metadata": {
        "id": "bOHqMI4HjI0v",
        "outputId": "0a9fafcd-bb7d-4952-cf21-616b838591c3",
        "colab": {
          "base_uri": "https://localhost:8080/"
        }
      },
      "execution_count": 13,
      "outputs": [
        {
          "output_type": "stream",
          "name": "stdout",
          "text": [
            "(array([0., 1., 2.]), array([-9999,     0,     0], dtype=int32))\n"
          ]
        }
      ]
    }
  ],
  "metadata": {
    "colab": {
      "name": "Welcome To Colaboratory",
      "toc_visible": true,
      "provenance": [],
      "include_colab_link": true
    },
    "kernelspec": {
      "display_name": "Python 3",
      "name": "python3"
    }
  },
  "nbformat": 4,
  "nbformat_minor": 0
}
